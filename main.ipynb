{
 "cells": [
  {
   "cell_type": "markdown",
   "metadata": {
    "colab_type": "text",
    "id": "j4jFd30VK6Yr"
   },
   "source": [
    "# Applied Micro Study Group: Computation\n",
    "*May 2, 2020*\n",
    "\n",
    "*Mauro Moretto, Faith Feng*\n",
    "\n",
    "## Overview:\n",
    "1. Improve your workflow with JupyterLab, some coding tips\n",
    "2. Simulate data of the single agent job search model based on *Application 1: Search Model* in *Nonstationary Dynamic Models with Finite Dependence* (Arcidiacono and Miller, 2019)\n",
    "3. Estimation by minimum distance with CCP \n",
    "4. Estimation by finite dependence with CCP\n",
    "\n",
    "## 1. JupyterLab: Smoothing Your Workflow\n",
    "\n",
    "- JupyterLab is an augmentation of the very popular Jupyter Notebook which supports over 40 programming languages such as Python, R, Julia.\n",
    "\n",
    "\n",
    "- Like Jupyter Notebook, one can keep the comments and notes together with your codes. One can display the results of your code cleanly as well. (For keeping notes in Markdown, see [Markdown Cheatsheet](https://github.com/adam-p/markdown-here/wiki/Markdown-Cheatsheet#links). Mathematics formula are essentially the same as LaTex.)\n",
    "\n",
    "\n",
    "- So it is very good for developing codes since you can record your ideas and experiment your codes at the same place.\n",
    "\n",
    "\n",
    "- However, Jupyter Notebook (file type *.ipynb* instead of *.py*) is slower than compiling Python (*.py*) codes in terminal, so people usually just use it to experiment ideas, keep records of code development or presenting codes.\n",
    "\n",
    "\n",
    "- With JupyterLab, one can transfer the codes easily to traditional Python files and compile in terminals.\n",
    "\n",
    "### A touch of software engineering: Top-Down v.s. Bottom-Up Design\n",
    "\n",
    "- Top-Down: Write the big framework first, then fill in the smaller functions that the big framework needs.\n",
    "\n",
    "    *advantage*: no need to think about every little details of implementation first; it can help you figure out what kind of supporting functions you need, and makes project management easier.\n",
    "\n",
    "    *disadvantage*: no coding can start until there is a thorough understanding of the entire structure of the project.\n",
    "\n",
    "- Bottom-Up: Write the smaller elements first, then write the big framework.\n",
    "\n",
    "    *advantage*: it is easier to test the smaller functions as soon as you create them\n",
    "    \n",
    "    *disadvantage*: it is usually easier to lose track of the big framework in which the small functions operate, and may lead to a non-optimized implementation of such functions\n",
    "\n",
    "### Good code styles can help you in the long-run\n",
    "\n",
    "It is generally good pratice to:\n",
    "\n",
    "- __name your variables and functions well__ Don't be lazy to write short abbreviations of names that are hard to understand)  \n",
    "\n",
    "- __avoid magic numbers__ (unique values with unexplained meaning or multiple occurrences which could be replaced with named constants) to clarify meaning, so that other people (including yourself after not working on the project for a while) can quickly understand what's going on.  \n",
    "\n",
    "- __avoid copy-pasting your code__ Instead, write functions or classes with changeable parameters.  \n",
    "\n",
    "- __minimize the usage of global variables__ They can be really messy in a medium or large sized project, as they can easily affect what happens in your code. And at the same time, they can be modified by any part of your program. See *Global variables are BAD* (http://wiki.c2.com/?GlobalVariablesAreBad)"
   ]
  },
  {
   "cell_type": "markdown",
   "metadata": {
    "colab_type": "text",
    "id": "1ROVsv5qK6Ys"
   },
   "source": [
    "### Why Python is not that bad?\n",
    "\n",
    "### - Community support:\n",
    "\n",
    "| Language| Registered Packages| GitHub Projects | Reddit | Job Postings |\n",
    "| :---   |     :---:           |     :---:       | :---:  |    :---:    |\n",
    "| Python | 176,369             |    2,182,259    | 350k   | 30,328      |\n",
    "| R      | 14,094              |      561,434    | 13.5k  | 8,563       |\n",
    "| Julia  | over 2,400          |       16,394    | 6.5k   | 203         |"
   ]
  },
  {
   "cell_type": "markdown",
   "metadata": {
    "colab_type": "text",
    "id": "fUqqtJ33K6Ys"
   },
   "source": [
    "Data Sources:\n",
    "\n",
    "*Registered packages: Pypi.org (Python), R-CRAN (R), Julialang (Julia);\n",
    "\n",
    "*GitHub projects: from GHTorrent data collected in 2018; \n",
    "\n",
    "*Reddit: members of subreddits r/Python, r/Rlanguage and r/Julia; \n",
    "\n",
    "*Job posting: search by \"language programming\" (language=Python, R, Julia) on Indeed.com (Apr 17, 2019)  \n",
    "\n",
    "\n",
    "### - Speed:\n",
    "\n",
    "Python is slow compared to low-level languages like C/C++, Java .etc for mainly 2 reasons:\n",
    "1. It is interpreted rather than compiled (it translates higher level languages into lower-level/faster languages). Common problem for all high-level languages.\n",
    "2. Global Interpreter Lock (GIL): prevents multi-threading, but it greatly simplifies programming complexity faced by developers.\n",
    "\n",
    "However, there are ways to boost the performance in Python (such as multiprocessing). And it is important to keep in mind that, most of the times, especially for not so professionally trained programmers (such as myself), the greatest restriction on the performance is the underlying algorithm of the program that one writes.\n",
    "\n",
    "*Yes, the performance matters. But the user/developer experience also matters. Python is known for being simple to program, easy to read and maintain.*\n",
    "\n",
    "__Conclusion: Don't use Python to program fancy video games. But for most of data analysis purposes, it is not necessarily low-performing, and it has much more community supports.__"
   ]
  },
  {
   "cell_type": "markdown",
   "metadata": {
    "colab_type": "text",
    "id": "ISapF7U0K6Yt"
   },
   "source": [
    "## 2. Data Simulation\n",
    "\n",
    "### A Simple Job Search Model\n",
    "\n",
    "- Each period $t \\in \\{1, \\cdots, T\\}$, an individual may stay home ($d_{1t} = 1$) or apply for temporary employment setting ($d_{2t}=1$). \n",
    "\n",
    "- Job applicants are successful with probability $\\lambda(x_t)$, and the value of the position depends on the experience of the individual denoted by $x \\in \\{1, \\cdots, X\\}$. \n",
    "$$\\lambda(x_{t}) = 0.2\\frac{x_t}{(T-1)}+0.8, ~~ x_t \\in \\{0, \\cdots, T-1\\}$$\n",
    "\n",
    "- If the individual works his experience increases by one unit, and remains at the current level otherwise.\n",
    "\n",
    "- The preference primitives are given by the current utility from staying home, denoted by $u_{1}(x_t) $, and the utility of working $u_2(x_t)$.\n",
    "$$ u_{1}(x_t) = 0, \\\\  u_2(x_t) = \\beta_0 + \\beta_1 \\left( \\frac{x_t}{T-1} \\right) $$\n",
    "\n",
    "- Data generating process parameters: $\\beta_0 = -2.4, ~ \\beta_1 = 8, ~ \\delta = 0.9$\n",
    "\n",
    "- Error term distribution: $\\epsilon_{1t}, ~\\epsilon_{2t}$ are independently and identically distributed, following Type 1 Extreme Value distribution"
   ]
  },
  {
   "cell_type": "code",
   "execution_count": null,
   "metadata": {
    "colab": {},
    "colab_type": "code",
    "id": "LC1uVIunK6Yt"
   },
   "outputs": [],
   "source": [
    "import numpy as np\n",
    "import pandas as pd\n",
    "import functools, itertools\n",
    "import os, time, random\n",
    "import matplotlib.pyplot as plt"
   ]
  },
  {
   "cell_type": "markdown",
   "metadata": {
    "colab_type": "text",
    "id": "b_ctEc4OK6Yx"
   },
   "source": [
    "### Compute Future/Continuation Value\n",
    "\n",
    "* Let the conditional choice value be:\n",
    "$$ v_{jt}(x_t) = u_{jt}(x_t) + \\delta E[V_{t+1}(x_{t+1}) | x_{t}, j]$$\n",
    "Here we're computing the second part of the total conditional value, where:\n",
    "$$\n",
    "E[V_{t+1}(x_{t+1}) | x_{t}, j] = E_{x_{t+1}, \\epsilon_{1t+1},\\epsilon_{2t+1}}\\left[\\max\\left\\{ u_{1t+1}(x_{t+1}) + \\epsilon_{1t+1} + \\delta E[V(x_{t+2})|x_{t+1}, j=1], \\\\\n",
    "u_{2t+1}(x_{t+1}) + \\epsilon_{2t+1} + \\delta E[V(x_{t+2})|x_{t+1}, j=2]\\right\\} |~x_t, j \\right]\n",
    "$$\n",
    "\n",
    "* The transition of state variable $x_t$:\n",
    "$$\n",
    "F(x_{t+1} = x_t |x_t, j=1) = 1 \\\\\n",
    "F(x_{t+1} = x_t |x_t, j=2) = 1-\\lambda (x_{t}) \\\\\n",
    "F(x_{t+1} = x_t+1 |x_t, j=2) = \\lambda (x_{t})\n",
    "$$\n",
    "\n",
    "* So with current work experience $x_t$, if the current choice is $d_t=1$, the work experience next period $x_{t+1}$ is $x_t$ for sure. The continuation value at $t$ is $V(x_t)$.\n",
    "But if $d_t=2$, the work experience next period can be $x_t$ or $x_t+1$. The continuation value at $t$ is $\\lambda(x_t) V_{t+1}(x_t+1)+(1-\\lambda_(x_t)) V_{t+1}(x_t)$.\n",
    "\n",
    "* Here we compute the value function using Monte Carlo method, that is, we compute the expectation by taking an average of many simulations.\n",
    "\n",
    "\\begin{gather*}\n",
    "\\hat{V}_t(x_t) = \\frac{1}{N} \\sum_{i=1}^N \\max \\left\\lbrace \\epsilon_H^i + u_H(x_t) + \\delta \\hat{V}_{t+1}(x_{t}), \\\\\n",
    "\\epsilon_W^i + (1-\\lambda(x_t)) \\left[u_H(x_t) + \\delta \\hat{V}_{t+1}(x_{t}) \\right] + \\lambda(x_t) \\left[u_W(x_t) + \\delta \\hat{V}_{t+1}(x_{t}+1) \\right]  \\right\\rbrace\n",
    "\\end{gather*}\n",
    "\n",
    "* Computation through simulation can be pretty expensive, and can introduce some noise. This is not a big problem in this case, but keep in mind that we are dealing with a very simple problem, where the state space is uni-dimensional. Is there any alternative way to compute the does not rely on simulation? \n",
    "\n",
    "* We can use the properties at the Type 1 Extreme Value. Suppose that we have $N$ Gumbel random variables $\\varepsilon^i$ with location parameter $0$, and same scale parameter $\\sigma$. \n",
    "\n",
    "\\begin{gather*}\n",
    "\\mathbb{E}\\left[ \\max_{i=1,\\cdots,N} \\left( \\varepsilon^i + \\mu^i  \\right) \\right] & = \\gamma \\sigma + \\log \\left( \\sum_{i=1}^N \\exp\\left(\\frac{\\mu^i}{\\sigma}\\right)  \\right)\n",
    "\\end{gather*}\n",
    "* In our case, we have, we have two actions, so $N=2$. For each $x_t \\in \\mathcal{X}$\n",
    "\\begin{align*}\n",
    "\\mu^1(x_t) & = u_{H}(x_t) + \\delta V_{t+1}(x_{t}) \\\\\n",
    "\\mu^2(x_t) & = (1-\\lambda(x_t)) \\left[u_H(x_t) + \\delta {V}_{t+1}(x_{t}) \\right] + \\lambda(x_t) \\left[u_W(x_t) + \\delta {V}_{t+1}(x_{t}+1) \\right]\n",
    "\\end{align*}\n",
    "so that we can compute:\n",
    "\\begin{align*}\n",
    "V_t(x_t) & = \\sigma \\gamma + \\sigma \\log \\left( \\sum_{i=1}^2 \\exp\\left(\\frac{\\mu^i(x_t)}{\\sigma}\\right)  \\right)\n",
    "\\end{align*}"
   ]
  },
  {
   "cell_type": "markdown",
   "metadata": {
    "colab_type": "text",
    "id": "PYQqUMFJK6Yx"
   },
   "source": [
    "### 2.1 Simulation using Recursive Function\n",
    "\n",
    "### A bit more coding trick:\n",
    "\n",
    "- Python allows recursive functions.\n",
    "- Recursive functions are sometimes easier to write and to read when the problem is recursive in nature (such as the classical Fibonacci function) than traditional iterations (for/while loops), but it's usually __much__ slower in Python.\n",
    "- However, one can improve the performance of recursion greatly in Python using \"memoization\".\n",
    "- Memoization means that we tell the program to memorize the \"intermediate\" results to avoid unnecessary calculations by keeping a \"memo\" of previous calculated results."
   ]
  },
  {
   "cell_type": "code",
   "execution_count": null,
   "metadata": {
    "colab": {},
    "colab_type": "code",
    "id": "CuIqDxisK6Yy"
   },
   "outputs": [],
   "source": [
    "def expectedMax(*args,mu=0, beta=1, size=2000):\n",
    "    # Use Exact method to compute Emax[val1+epsilon1, val2+epsilon2]  \n",
    "    return beta * np.log(np.sum(np.exp(np.array(args)/beta))) + np.euler_gamma * beta + mu\n"
   ]
  },
  {
   "cell_type": "code",
   "execution_count": null,
   "metadata": {
    "colab": {},
    "colab_type": "code",
    "id": "kC70T8-CK6Y1"
   },
   "outputs": [],
   "source": [
    "## success rate of job application\n",
    "success = lambda work_experience, T=10: (work_experience/(T-1))*0.2+0.8\n",
    "\n",
    "# decorator function: function that takes another function as argument\n",
    "def memoize(function):\n",
    "    memo = {}\n",
    "    def helper(x):\n",
    "        if x not in memo:            \n",
    "            memo[x] = function(x)\n",
    "        return memo[x]\n",
    "    return helper\n",
    "\n",
    "def saveData(res, T, N):\n",
    "    individuals = list(itertools.chain(*[[i]*T for i in range(N)]))\n",
    "    time_periods = list(itertools.chain(*[list(range(T)) for i in range(N)]))\n",
    "    work_experiences = list(itertools.chain(*[item[0] for item in res]))\n",
    "    choices = list(itertools.chain(*[item[1] for item in res]))\n",
    "    data = pd.DataFrame({'individual': individuals, 'age': time_periods, \n",
    "                         'work_experience': work_experiences, 'choice': choices})\n",
    "    return data"
   ]
  },
  {
   "cell_type": "code",
   "execution_count": null,
   "metadata": {
    "colab": {},
    "colab_type": "code",
    "id": "B93Mqt6eK6Y3"
   },
   "outputs": [],
   "source": [
    "# simulate data given the parameter\n",
    "def dataSimulationRecursion(parameter, successRates, N=5000, T=10):\n",
    "    theta0, theta1, discount = parameter\n",
    "    utilityWork = [theta0+theta1*x/T for x in range(0,T)]\n",
    "    @memoize\n",
    "    def continuationValue(arg_tuple):\n",
    "        nonlocal discount, successRates\n",
    "        # nonlocal continuation_values\n",
    "        t, T, work_experience, current_choice = arg_tuple\n",
    "        work_experience = int(work_experience)\n",
    "        if t>=T-1:\n",
    "            # continuation_values[t][work_experience] = 0\n",
    "            return 0\n",
    "        else:\n",
    "            success_rate = successRates[int(work_experience)]\n",
    "            state_tuple_home = (t+1, T, work_experience, 1)\n",
    "            value_home = continuationValue(state_tuple_home)\n",
    "            state_tuple_work = (t+1, T, work_experience, 2)\n",
    "            value_work = (utilityWork[work_experience]+\n",
    "                             continuationValue(state_tuple_work))\n",
    "            if current_choice==1:\n",
    "                # now home -> state variable next period stays the same\n",
    "                continuation_value = discount*expectedMax(value_home, value_work)\n",
    "            else:\n",
    "                # now work -> state variable next period may change\n",
    "                # if job application succeeds\n",
    "                state_tuple_home_success = (t+1, T, work_experience+1, 1)\n",
    "                value_home_success = continuationValue(state_tuple_home_success)\n",
    "                state_tuple_work_success = (t+1, T, work_experience+1, 2)\n",
    "                value_work_success = (utilityWork[work_experience+1]+\n",
    "                             continuationValue(state_tuple_work_success))\n",
    "                # total continuation value\n",
    "                continuation_value = discount*(\n",
    "                    success_rate*expectedMax(value_home_success, value_work_success)+\n",
    "                    (1-success_rate)*expectedMax(value_home, value_work))\n",
    "            return continuation_value\n",
    "        \n",
    "    def generateChoices(T, successRates, discount, mu=0, beta=1):\n",
    "        # default mu and beta -> type I extreme value\n",
    "        work_experience = 0\n",
    "        work_experiences = [work_experience]\n",
    "        choices = []\n",
    "        actual_shock_home = np.random.gumbel(mu, beta, T)\n",
    "        actual_shock_work = np.random.gumbel(mu, beta, T)\n",
    "        t = 0\n",
    "        while t<=T-1:\n",
    "            success_rate = successRates[work_experience]\n",
    "            job_search = np.random.binomial(n=1, p=success_rate)\n",
    "            state_tuple_home = (t, T, work_experience, 1)\n",
    "            state_tuple_work = (t, T, work_experience, 2)\n",
    "            value_home = actual_shock_home[t]+continuationValue(state_tuple_home)\n",
    "            value_work = (actual_shock_work[t]+success_rate*utilityWork[work_experience]+\n",
    "                          continuationValue(state_tuple_work))\n",
    "            choices += [1+(value_home<=value_work)]\n",
    "            if t<T-1:\n",
    "                work_experience += int(job_search*(value_home<=value_work))\n",
    "                work_experiences += [work_experience]\n",
    "            t += 1\n",
    "        return work_experiences, choices\n",
    "    res = [generateChoices(T, successRates, discount) for i in range(N)]\n",
    "    data = saveData(res, T, N)\n",
    "    return data"
   ]
  },
  {
   "cell_type": "code",
   "execution_count": null,
   "metadata": {
    "colab": {},
    "colab_type": "code",
    "id": "iSa9VJ9lsZlK"
   },
   "outputs": [],
   "source": [
    "def dataSimulationIteration(parameter,successRates, N=2000, T=10):\n",
    "    theta0 = parameter[0]\n",
    "    theta1 = parameter[1]\n",
    "    discount = parameter[2]\n",
    "    utilityWork = [theta0+theta1*x/T for x in range(0,T)]\n",
    "    sigma = 1\n",
    "    utilityHome = [0]*T\n",
    "    # no need to allocate space to store\n",
    "    continuation_value = np.zeros((T+1,T+1))\n",
    "\n",
    "    for age in range(T-1, -1, -1): \n",
    "        for exp in range(age, -1, -1):              \n",
    "            success_rate = successRates[exp]\n",
    "            value_hw = np.zeros((2,))\n",
    "            value_hw[0] = (utilityHome[exp] + \n",
    "                             discount*continuation_value[age+1,exp])\n",
    "            value_hw[1] = success_rate*(utilityWork[exp] + \n",
    "                            discount*continuation_value[age+1,exp+1]) + (\n",
    "                1-success_rate)*(utilityHome[exp] + discount*continuation_value[age+1,exp])\n",
    "            continuation_value[age,exp] = expectedMax(value_hw, mu=0, beta=1, size=2000)\n",
    "\n",
    "    def individualSimulation(i):  \n",
    "        nonlocal T, successRates, continuation_value, sigma\n",
    "\n",
    "        epsilon_work_i = np.random.gumbel(0,sigma,size = T)\n",
    "        epsilon_home_i = np.random.gumbel(0,sigma,size = T)\n",
    "        success_shock_sim = np.random.random(size=T)   \n",
    "        \n",
    "        exp_i = np.zeros((T,),dtype = int)\n",
    "        choice_i = np.zeros((T,),dtype = int)\n",
    "        \n",
    "        for age in range(T):            \n",
    "            success_rate = successRates[exp_i[age]]\n",
    "            value_home = (utilityHome[exp_i[age]] + epsilon_home_i[age] + \n",
    "                          discount*continuation_value[age+1,exp_i[age]])\n",
    "            value_work = (epsilon_work_i[age] + success_rate*(utilityWork[exp_i[age]] + \n",
    "                          discount*continuation_value[age+1,exp_i[age]+1]) + \n",
    "                          (1-success_rate)*(utilityHome[exp_i[age]] + \n",
    "                        discount*continuation_value[age+1,exp_i[age]]))\n",
    "            choice_i[age] = 1 + int(value_home <= value_work)\n",
    "            \n",
    "            if (age < T-1):\n",
    "                    exp_i[age+1] = exp_i[age] + (choice_i[age] == 2) *(\n",
    "                        success_shock_sim[age] <= success_rate) \n",
    "            \n",
    "        matrix_sim_i = np.zeros((T,4),dtype = int)\n",
    "        matrix_sim_i[:,0] = i*np.ones((T,))\n",
    "        matrix_sim_i[:,1] = choice_i\n",
    "        matrix_sim_i[:,2] = exp_i\n",
    "        matrix_sim_i[:,3] = range(0,T)                    \n",
    "        return matrix_sim_i\n",
    "    \n",
    "    matrix_sim = np.zeros((N*T,4))           \n",
    "    for i in range(0,N):\n",
    "        \n",
    "        matrix_sim[i*T:(i+1)*T,:] = individualSimulation(i)\n",
    "        \n",
    "    df_sim = pd.DataFrame(matrix_sim, \n",
    "        columns=[\"individual\", \"choice\", \"work_experience\", \"age\"],dtype = int)\n",
    "            \n",
    "    return df_sim"
   ]
  },
  {
   "cell_type": "code",
   "execution_count": null,
   "metadata": {
    "colab": {
     "base_uri": "https://localhost:8080/",
     "height": 330
    },
    "colab_type": "code",
    "id": "gSqb2yHAK6Y5",
    "outputId": "d264b1e4-2365-4c75-926c-51b042ec5224"
   },
   "outputs": [
    {
     "name": "stdout",
     "output_type": "stream",
     "text": [
      "It takes 0.632 seconds to simulate 5000 individuals living for         10 periods when you use the recursive formulation\n",
      "It takes 0.694 seconds to simulate 5000 individuals living for         10 periods when you use the iterative formulation\n"
     ]
    },
    {
     "data": {
      "text/html": [
       "<div>\n",
       "<style scoped>\n",
       "    .dataframe tbody tr th:only-of-type {\n",
       "        vertical-align: middle;\n",
       "    }\n",
       "\n",
       "    .dataframe tbody tr th {\n",
       "        vertical-align: top;\n",
       "    }\n",
       "\n",
       "    .dataframe thead th {\n",
       "        text-align: right;\n",
       "    }\n",
       "</style>\n",
       "<table border=\"1\" class=\"dataframe\">\n",
       "  <thead>\n",
       "    <tr style=\"text-align: right;\">\n",
       "      <th></th>\n",
       "      <th>individual</th>\n",
       "      <th>age</th>\n",
       "      <th>work_experience</th>\n",
       "      <th>choice</th>\n",
       "    </tr>\n",
       "  </thead>\n",
       "  <tbody>\n",
       "    <tr>\n",
       "      <th>count</th>\n",
       "      <td>50000.000000</td>\n",
       "      <td>50000.00000</td>\n",
       "      <td>50000.000000</td>\n",
       "      <td>50000.000000</td>\n",
       "    </tr>\n",
       "    <tr>\n",
       "      <th>mean</th>\n",
       "      <td>2499.500000</td>\n",
       "      <td>4.50000</td>\n",
       "      <td>2.632560</td>\n",
       "      <td>1.714560</td>\n",
       "    </tr>\n",
       "    <tr>\n",
       "      <th>std</th>\n",
       "      <td>1443.390078</td>\n",
       "      <td>2.87231</td>\n",
       "      <td>2.536887</td>\n",
       "      <td>0.451628</td>\n",
       "    </tr>\n",
       "    <tr>\n",
       "      <th>min</th>\n",
       "      <td>0.000000</td>\n",
       "      <td>0.00000</td>\n",
       "      <td>0.000000</td>\n",
       "      <td>1.000000</td>\n",
       "    </tr>\n",
       "    <tr>\n",
       "      <th>25%</th>\n",
       "      <td>1249.750000</td>\n",
       "      <td>2.00000</td>\n",
       "      <td>0.000000</td>\n",
       "      <td>1.000000</td>\n",
       "    </tr>\n",
       "    <tr>\n",
       "      <th>50%</th>\n",
       "      <td>2499.500000</td>\n",
       "      <td>4.50000</td>\n",
       "      <td>2.000000</td>\n",
       "      <td>2.000000</td>\n",
       "    </tr>\n",
       "    <tr>\n",
       "      <th>75%</th>\n",
       "      <td>3749.250000</td>\n",
       "      <td>7.00000</td>\n",
       "      <td>4.000000</td>\n",
       "      <td>2.000000</td>\n",
       "    </tr>\n",
       "    <tr>\n",
       "      <th>max</th>\n",
       "      <td>4999.000000</td>\n",
       "      <td>9.00000</td>\n",
       "      <td>9.000000</td>\n",
       "      <td>2.000000</td>\n",
       "    </tr>\n",
       "  </tbody>\n",
       "</table>\n",
       "</div>"
      ],
      "text/plain": [
       "         individual          age  work_experience        choice\n",
       "count  50000.000000  50000.00000     50000.000000  50000.000000\n",
       "mean    2499.500000      4.50000         2.632560      1.714560\n",
       "std     1443.390078      2.87231         2.536887      0.451628\n",
       "min        0.000000      0.00000         0.000000      1.000000\n",
       "25%     1249.750000      2.00000         0.000000      1.000000\n",
       "50%     2499.500000      4.50000         2.000000      2.000000\n",
       "75%     3749.250000      7.00000         4.000000      2.000000\n",
       "max     4999.000000      9.00000         9.000000      2.000000"
      ]
     },
     "execution_count": 7,
     "metadata": {
      "tags": []
     },
     "output_type": "execute_result"
    }
   ],
   "source": [
    "# simulate data\n",
    "\n",
    "T, N_individuals = 10, 5000\n",
    "successRates = [success(x) for x in range(T)]\n",
    "parameter = (-2.4, 8, 0.9)\n",
    "start = time.time()\n",
    "data_recursion = dataSimulationRecursion(parameter=parameter, \n",
    "        successRates=successRates,N=N_individuals)\n",
    "end = time.time()\n",
    "print(\"It takes {} seconds to simulate {} individuals living for \\\n",
    "        {} periods when you use the recursive formulation\".format(np.round(end-start,3),N_individuals,T))\n",
    "data_recursion.describe()\n",
    "\n",
    "start = time.time()\n",
    "data_iteration = dataSimulationIteration(parameter=parameter, \n",
    "        successRates=successRates,N=N_individuals)\n",
    "end = time.time()\n",
    "print(\"It takes {} seconds to simulate {} individuals living for \\\n",
    "        {} periods when you use the iterative formulation\".format(np.round(end-start,3),N_individuals,T))\n",
    "\n",
    "\n",
    "data_recursion.describe()\n",
    "\n",
    "\n"
   ]
  },
  {
   "cell_type": "markdown",
   "metadata": {
    "colab_type": "text",
    "id": "Tckc5qkjvVPg"
   },
   "source": [
    "The two methods are roughly equivalents, but if you were to use a Montecarlo simulation, instead of the closed form solution for the expectation, it would take nearly three time as long to generate the same dataset. \n",
    "\n"
   ]
  },
  {
   "cell_type": "markdown",
   "metadata": {
    "colab_type": "text",
    "id": "gROL42U2K6ZD"
   },
   "source": [
    "## 3. Estimation Using Simulation Method\n",
    "General idea: minimizing the distance between simulated choice probabilities and empirical choice probabilities. (*Related lecture notes: http://www.its.caltech.edu/~mshum/gradio/single-dynamics2.pdf*)\n",
    "\n",
    "Procedure:\n",
    "1. Estimate conditional choice probability $\\hat{P}(d|X)$\n",
    "2. Estimate transition probability (job search success rate)\n",
    "3. Simulate value functions, generate model choice probability $\\tilde{P}(d|X, \\theta)$\n",
    "4. Estimate by minimum distance \n",
    "$$ \\min_{{\\theta}}\\left|\\left|\\mathbf{\\tilde{P}}(d|X, \\theta)-\\mathbf{\\hat{P}}(d|X)\\right|\\right|^2_2$$\n",
    "\n",
    "Note: To see more computation implementation of other methods (MPEC, NFP, .etc), I recommend Professor Param Vir Singh's class *PhD Seminar on Estimating Dynamic and Structural Models*. The course is taught in Matlab, but you're free to do the assignments in whatever language you like."
   ]
  },
  {
   "cell_type": "markdown",
   "metadata": {
    "colab_type": "text",
    "id": "DiL8wpjHK6ZD"
   },
   "source": [
    "### Choice Probability\n",
    "Now, we we want to estimate the condtional choice probabilities. Given that the problem is non-stationary, we need to compute:\n",
    "$$\\hat{p}(d = 2|x,t)= \\frac{\\sum_{i=1}^N \\mathbf{1}  \\left( x_{it} = x, d_{it} = 2 \\right)}{\\sum_{i=1}^N \\mathbf{1} \\left( x_{it} = x \\right)}$$\n",
    "Now, it may be the case that for certain combinations of $(x,t)$, we do not have any observation.\n",
    "\n",
    "In our simulation, all agents are born in period $t=0$, and have no experience, so that \n",
    "$$x_{i0}=0 \\ \\forall i=1,\\cdots,N$$\n",
    "\n",
    "This also implies that in the data we will not observe $x_{it}>t$ for any agent $i$. If we define \n",
    "$$\\mathbf{\\hat{P}}=[\\hat{p}_{ij}] = [\\hat{p}(d =2 | t=i,x=j)]$$\n",
    "then we should expect $\\hat{\\mathbf{P}}$ to be defined only in its lower-triangular portion. "
   ]
  },
  {
   "cell_type": "markdown",
   "metadata": {
    "colab_type": "text",
    "id": "z7nzEmwHK6ZE"
   },
   "source": [
    "### Transition Probability\n",
    "Now we want to estimate the probability of job acceptance conditional on the level of experience accumulated over the working life: \n",
    "$$\\hat{\\lambda} (x)  = \\frac{\\sum_{i=1}^N \\sum_{t=0}^{T-1} \\mathbf{1} \\left( x_{it}=x, x_{it+1} = x + 1, d_{it}=2  \\right)}{\\sum_{i=1}^N \\sum_{t=0}^{T-1} \\mathbf{1} \\left( x_{it}=x, d_{it}=2  \\right)}  $$"
   ]
  },
  {
   "cell_type": "code",
   "execution_count": null,
   "metadata": {
    "colab": {},
    "colab_type": "code",
    "id": "CHKFFCaWK6ZF"
   },
   "outputs": [],
   "source": [
    "def ccp_fun(data, T=10):    \n",
    "    def ccp_state_fun(arg):\n",
    "        age , exp =  arg\n",
    "        mask_den = (data['age'] == age) & (data['work_experience'] == exp)\n",
    "        mask_num = (mask_den) & (data['choice'] == 2) \n",
    "        # weight ccp by number of observations\n",
    "        W_state = len(data[mask_den])\n",
    "        ccp_state = len(data[mask_num])/W_state if W_state>0 else 999\n",
    "        return ccp_state, W_state\n",
    "    output = [ccp_state_fun(item) for item in filter(lambda x: x[0]>=x[1], \n",
    "        itertools.product(range(T),range(T)))]\n",
    "    ccp = np.array([item[0] for item in output])\n",
    "    W = np.array([item[1] for item in output])\n",
    "    n_obs = W\n",
    "    W = W/np.sum(W) \n",
    "    return ccp, W, n_obs\n",
    "\n",
    "# estimation transition probability/success rate\n",
    "def p_acpt_fun(data, T=10):\n",
    "    data['future_work_experience'] = data['work_experience'].shift(-1).values.astype(int)\n",
    "    mask = data.age == T-1\n",
    "    data.loc[mask,'future_work_experience'] = 999    \n",
    "    p_acpt = np.zeros((T-1,))\n",
    "    n_obs = np.zeros((T-1,))\n",
    "    for i in range(T-1):\n",
    "        num = len(data[(data['age'] < T-1) & (data['work_experience'] == i) & \n",
    "            (data['future_work_experience'] == i + 1) & (data['choice'] == 2)])\n",
    "        den = len(data[(data['age'] < T-1) & (data['work_experience'] == i) & \n",
    "            (data['choice'] == 2)]) \n",
    "        if den > 0:\n",
    "            p_acpt[i] = num/den\n",
    "            n_obs[i] = den\n",
    "        else:\n",
    "            p_acpt[i] = np.nan\n",
    "            n_obs = np.nan\n",
    "    return p_acpt, den"
   ]
  },
  {
   "cell_type": "code",
   "execution_count": null,
   "metadata": {
    "colab": {
     "base_uri": "https://localhost:8080/",
     "height": 279
    },
    "colab_type": "code",
    "id": "bzAMHDq0K6ZJ",
    "outputId": "0146819a-dc3c-4e7f-ec74-f9b61dc2f972"
   },
   "outputs": [
    {
     "data": {
      "image/png": "[encoded data removed]",
      "text/plain": [
       "<Figure size 432x288 with 1 Axes>"
      ]
     },
     "metadata": {
      "needs_background": "light",
      "tags": []
     },
     "output_type": "display_data"
    }
   ],
   "source": [
    "# estimate ccp and weights\n",
    "actual_ccp, actual_W, n_obs = ccp_fun(data_recursion)\n",
    "# estimate success rates\n",
    "T = 10\n",
    "success_rates = np.ones((T,)) \n",
    "success_rates[0:T-1], n_obs_success_rates = p_acpt_fun(data_recursion)\n",
    "# replace nan to 0\n",
    "success_rates = np.array([x if np.isnan(x)==False else 0 for x in success_rates])\n",
    "# plot estimated success rates v.s. theoretical success rates\n",
    "%matplotlib inline\n",
    "plt.figure()\n",
    "plt.plot(range(0,T-1),success_rates[0:T-1],'r',label='Empirical')\n",
    "plt.plot(range(0,T-1),[0.8 + 0.2/(T-1) * item for item in range(0,T-1)],'b',label = 'True')\n",
    "plt.xlabel(r'$x$')\n",
    "plt.ylabel(r'$\\lambda(x)$')\n",
    "plt.legend()\n",
    "plt.show()\n",
    "\n",
    "\n"
   ]
  },
  {
   "cell_type": "code",
   "execution_count": null,
   "metadata": {
    "colab": {},
    "colab_type": "code",
    "id": "81Xs_DXYK6ZL"
   },
   "outputs": [],
   "source": [
    "# minimizing distance between predicted CCP and actual CCP\n",
    "def predictCCPRecursion(success_rates, parameters):\n",
    "    data = dataSimulationRecursion(parameters, success_rates)\n",
    "    ccp, W, _ = ccp_fun(data)\n",
    "    return ccp, W\n",
    "\n",
    "def estimatorRecursion(parameters, actual_ccp, success_rates, actual_W):\n",
    "    predicted_ccp, W = predictCCPRecursion(success_rates, parameters)\n",
    "    distance = np.sum(np.multiply((predicted_ccp-actual_ccp)**2,W))\n",
    "    return distance"
   ]
  },
  {
   "cell_type": "code",
   "execution_count": null,
   "metadata": {
    "colab": {},
    "colab_type": "code",
    "id": "wqwqgIklK6ZN"
   },
   "outputs": [],
   "source": [
    "def estimationRecursion(data_recursion, parameter_combos):\n",
    "    actual_ccp, actual_W, _ = ccp_fun(data_recursion)\n",
    "    # estimate success rates\n",
    "    T = 10\n",
    "    success_rates = np.zeros((T,)) \n",
    "    success_rates[0:T-1] = p_acpt_fun(data_recursion)\n",
    "    # replace nan to 0\n",
    "    success_rates = [x if np.isnan(x)==False else 0 for x in success_rates]\n",
    "    # grid search for minimum distance estimation\n",
    "    estimatorNewRecursion = functools.partial(estimatorRecursion, actual_ccp=actual_ccp, \n",
    "                            success_rates=success_rates, actual_W=actual_W)\n",
    "    obj = [estimatorNewRecursion(item) for item in parameter_combos]\n",
    "    # find parameters that gives the minimum distance\n",
    "    search_grid_sol = list(parameter_combos)[np.argmin(obj)]\n",
    "    return search_grid_sol"
   ]
  },
  {
   "cell_type": "code",
   "execution_count": null,
   "metadata": {
    "colab": {
     "base_uri": "https://localhost:8080/",
     "height": 52
    },
    "colab_type": "code",
    "id": "GUDu2hkSK6ZP",
    "outputId": "9251b1ee-412a-4c32-fcd8-7f889ad856f9"
   },
   "outputs": [
    {
     "name": "stdout",
     "output_type": "stream",
     "text": [
      "The solution from the search-grid algorithm is :(-2.1818181818181817, 7.272727272727273, 0.9142857142857143).\n",
      "       It took a total of 815.8725521564484 seconds to compute\n"
     ]
    }
   ],
   "source": [
    "# grid search for minimum distance estimation\n",
    "# true parameters = [-2.4, 8, 0.9]\n",
    "theta0_vec = np.linspace(-8, 0, 12)\n",
    "theta1_vec = np.linspace(0, 16, 12)\n",
    "discount_vec = np.linspace(0.8, 1, 8)\n",
    "\n",
    "parameter_combos = list(itertools.product(theta0_vec, theta1_vec, discount_vec))\n",
    "estimatorNewRecursion = functools.partial(estimatorRecursion, actual_ccp=actual_ccp, \n",
    "                        success_rates=success_rates, actual_W=actual_W)\n",
    "\n",
    "start = time.time()\n",
    "obj = [estimatorNewRecursion(item) for item in parameter_combos]\n",
    "end = time.time()\n",
    "\n",
    "# find parameters that gives the minimum distance\n",
    "search_grid_sol = parameter_combos[np.argmin(obj)]\n",
    "print(\"The solution from the search-grid algorithm is :{}.\\n \\\n",
    "      It took a total of {} seconds to compute\".format(search_grid_sol, end-start))"
   ]
  },
  {
   "cell_type": "code",
   "execution_count": null,
   "metadata": {
    "colab": {
     "base_uri": "https://localhost:8080/",
     "height": 228
    },
    "colab_type": "code",
    "id": "FejuyEVIK6ZR",
    "outputId": "31d2b5e1-9360-439c-e02e-d8552980a1c5"
   },
   "outputs": [
    {
     "name": "stdout",
     "output_type": "stream",
     "text": [
      "      fun: 0.034232482423680835\n",
      " hess_inv: array([[ 0.00122355,  0.03757455, -0.01508595],\n",
      "       [ 0.03757455,  1.15389063, -0.46328   ],\n",
      "       [-0.01508595, -0.46328   ,  0.18600407]])\n",
      "      jac: array([-9504.49297   , 29456.5285044 , 21685.45363953])\n",
      "  message: 'Desired error not necessarily achieved due to precision loss.'\n",
      "     nfev: 183\n",
      "      nit: 2\n",
      "     njev: 33\n",
      "   status: 2\n",
      "  success: False\n",
      "        x: array([-1.20973739e-06,  1.99999925e+00,  4.99998583e-01])\n"
     ]
    }
   ],
   "source": [
    "# traditional optimization\n",
    "from scipy.optimize import minimize as smin\n",
    "estimatorNewRecursion = functools.partial(estimatorRecursion, actual_ccp=actual_ccp, \n",
    "                        success_rates=success_rates, actual_W=actual_W)\n",
    "\n",
    "\n",
    "print(smin(fun=estimatorNewRecursion, x0=(0, 2, 0.5)))"
   ]
  },
  {
   "cell_type": "markdown",
   "metadata": {
    "colab_type": "text",
    "id": "iqMZUDK7wp2w"
   },
   "source": [
    "## 4. Estimation Using Finite Dependence\n",
    "\n",
    "It is easy to see that in our model, we can achieve 1-period finite dependence:\n",
    "Suppose that at time $t$, you have accumulated $x_t$ years of experience. Let's consider the following two sequences of actions: \n",
    "* $(d_{t}=1,d_{t+1}=2)$:\n",
    "\\begin{align*}\n",
    "  F(x_{t+1}|x_t,d_{t}=1) & = \n",
    "  \\begin{cases}\n",
    "   1 \\ \\ \\ x_{t+1} = x_{t} \\\\\n",
    "   0 \\ \\ \\ \\mbox{otherwise}\n",
    "  \\end{cases} \\\\\n",
    "    F(x_{t+2}|x_{t+1},d_{t+1}=2) & = \n",
    "  \\begin{cases}\n",
    "   \\lambda(x_{t+1}) \\ \\ \\ x_{t+2} = x_{t+1} + 1 \\\\\n",
    "   1- \\lambda(x_{t+1}) \\ \\ \\ x_{t+2} = x_{t+1}  \\\\\n",
    "   0 \\ \\ \\ \\mbox{otherwise}\n",
    "  \\end{cases} \n",
    "\\end{align*}\n",
    "This implies that:\n",
    "\\begin{align*}\n",
    "F(x_{t+2}|x_{t},(1,2)) & = \n",
    "\\begin{cases}\n",
    "  \\lambda(x_t) \\ \\ x_{t+2}=x_{t}+1 \\\\ \n",
    "  1 - \\lambda(x_t) \\ \\ x_{t+2}=x_{t} \\\\ \n",
    "  0 \\ \\ \\ \\mbox{otherwise}\n",
    "\\end{cases}\n",
    "\\end{align*}\n",
    "\n",
    "* $(d_{t}=2,d_{t+1}=1)$:\n",
    "\\begin{align*}\n",
    "  F(x_{t+1}|x_t,d_{t}=2) & = \n",
    "  \\begin{cases}\n",
    "   \\lambda(x_t) \\ \\ \\ x_{t+1} = x_{t} + 1 \\\\ \n",
    "   1 - \\lambda(x_t) \\ \\ \\ x_{t+1} = x_{t}  \\\\\n",
    "   0 \\ \\ \\ \\mbox{otherwise}\n",
    "  \\end{cases} \\\\\n",
    "    F(x_{t+2}|x_{t+1},d_{t+1}=1) & = \n",
    "  \\begin{cases}\n",
    "   1\\ \\ \\ x_{t+2} = x_{t+1}  \\\\\n",
    "   0 \\ \\ \\ \\mbox{otherwise}\n",
    "  \\end{cases} \n",
    "\\end{align*}\n",
    "This implies that:\n",
    "\\begin{align*}\n",
    "F(x_{t+2}|x_{t},(2,1)) & = \n",
    "\\begin{cases}\n",
    "  \\lambda(x_t) \\ \\ x_{t+2}=x_{t}+1 \\\\ \n",
    "  1 - \\lambda(x_t) \\ \\ x_{t+2}=x_{t} \\\\ \n",
    "  0 \\ \\ \\ \\mbox{otherwise}\n",
    "\\end{cases}\n",
    "\\end{align*}\n",
    "In this way, we have shown that:\n",
    "\\begin{align*}\n",
    "  F(x_{t+2}|x_t,(1,2)) = F(x_{t+2}|x_{t},(2,1)) \\ \\ \\ \\forall x_{t+2} \\in \\mathcal{X}\n",
    "\\end{align*}\n",
    "so that, we have established that the model has 1-period finite dependence. This holds true for any state $x_t \\in \\mathcal{X}$.\n"
   ]
  },
  {
   "cell_type": "markdown",
   "metadata": {
    "colab_type": "text",
    "id": "2s0syJjsCOSw"
   },
   "source": [
    "* When the errors are type one extreme value, we can use the following relation between the value function, the CCPs, and the conditional choice probabilities:\n",
    "\\begin{align}\n",
    "    V_t(x_t) = v_{jt}(x_t) + \\gamma - \\log P_t(d_t=j|x_t) \\ \\ \\ \\forall t = 1, \\cdots, T,  \\ \\ \\forall x_{t} \\in \\mathcal{X} \n",
    "\\end{align}\n",
    "\n",
    "* Let's now exploit finite dependence. Let's compute the choice conditional value function for action $j=1$, i.e. when you decide to stay at home:\n",
    "\\begin{align*}\n",
    "v_{1t} & = u_H(x_t) + \\delta V_{t+1}(x_{t})  \\\\\n",
    "& \\mbox{Replace } V_{t+1} \\mbox{ with }  v_{1t+1} \\ \\mbox{and the CCPs} \\\\\n",
    "& = u_H(x_t) + \\delta \\left( v_{2t+1}(x_t) + \\gamma - \\log P_{t+1}(d_{t+1}=2|x_t)  \\right) \\\\   \n",
    "& \\mbox{Telescope } v_{1t+1}  \\\\\n",
    "& = u_H(x_t) + \\delta \\left[\\lambda(x_t) \\left( u_{W}(x_{t}) + \\delta V_{t+2} (x_{t}+1)  \\right)   + (1-\\lambda(x_t))\\left( u_{H}(x_t) + \\delta V_{t+2}(x_{t})  \\right) + \\gamma - \\log P_{t+1}(d_{t+1}=2|x_t)   \\right] \\\\   \n",
    "& \\mbox{Rearrange} \\\\ \n",
    "& =  \\delta \\lambda(x_t)  \\left(  \\beta_{0} + \\beta_1 x_{t}\\right)  - \\delta \\log P_{t+1}(d_{t+1}=2|x_t)   + \\delta \\gamma + \\delta^2 \\lambda(x_t)V_{t+2}(x_t+1) + \\delta^2 (1-\\lambda(x_t)) V_{t+2} (x_t+1)                                  \n",
    "\\end{align*}\n",
    "\n",
    "* Let's compute the choice conditional value function for action $j=2$, i.e. when you decide to apply for a job:\n",
    "\\begin{align*}\n",
    "v_{2t} (x_t) & = \\left( 1 - \\lambda(x_t) \\right) \\left[ u_H(x_t) + \\delta V_{t+1}(x_t)  \\right] + \\lambda(x_t) \\left[ u_W(x_t) + \\delta V_{t+1}(x_{t}+1)   \\right] \\\\\n",
    "& \\mbox{Replace } V_{t+1} \\mbox{ with } v_{1t+1} \\ \\mbox{and the CCPs} \\\\ \n",
    "&  = \\left( 1 - \\lambda(x_t) \\right) \\left[ u_H(x_t) + \\delta \\left( v_{1t+1}(x_t) + \\gamma - \\log P_{t+1}(d_{t+1}=1|x_{t})\\right)  \\right] + \\lambda(x_t) \\left[ u_W(x_t) + \\delta \\left( v_{1t+1}(x_t+1) + \\gamma - \\log P_{t+1}(d_{t+1}=1|x_{t}+1)\\right) \\right] \\\\\n",
    "& \\mbox{Telescope } v_{1t+1} \\\\\n",
    "& = \\left( 1 - \\lambda(x_t) \\right) \\left[ u_H(x_t) + \\delta \\left( u_H(x_t) +\\delta V_{t+2}(x_t) + \\gamma - \\log P_{t+1}(d_{t+1}=1|x_{t})\\right)  \\right] + \\lambda(x_t) \\left[ u_W(x_t) + \\delta \\left( u_H(x_t+1) + \\delta V_{t+2}(x_{t}+1) + \\gamma - \\log P_{t+1}(d_{t+1}=1|x_{t}+1)\\right) \\right] \\\\\n",
    "& \\mbox{Rearrange} \\\\\n",
    " & = \\lambda(x_t)\\left( \\beta_0 + \\beta_1 x_t \\right)  - \\delta \\lambda(x_t)\\delta \\log P_{t+1}(d_{t+1}=1|x_t+1) - \\delta (1-\\lambda(x_t))\\delta P_{t+1}(d_{t+1}=1|x_{t})  + \\delta \\gamma + (1-\\lambda(x_t)) \\delta^2 V_{t+2}(x_t) + \\lambda(x_t) \\delta^2 V_{t+2}(x_t+1)\n",
    "\\end{align*}\n",
    "* If we subtract the two, we obtain:\n",
    "\\begin{align*}\n",
    "v_{2t}(x_t) - v_{1t}(x_t) & = \\lambda(x_t) (1-\\delta) \\left( \\beta_0 + \\beta_1 x_t \\right) + \\delta \\log P_{t+1} (d_{t+1}=2|x_t)- \\delta \\lambda(x_t) \\log P_{t+1}(d_{t+1}=1|x_{t}+1) - \\delta (1 - \\lambda(x_t)) \\log P_{t+1}(d_{t+1}=1|x_{t}) \\\\\n",
    "& = (1-\\delta) \\beta_0 \\lambda(x_t) + (1-\\delta)\\beta_1 x_t \\lambda(x_t) + \\delta \\left(  \\log P_{t+1} (d_{t+1}=2|x_t)- \\lambda(x_t) \\log P_{t+1}(d_{t+1}=1|x_{t}+1) - (1 - \\lambda(x_t)) \\log P_{t+1}(d_{t+1}=1|x_{t}) \\right)\n",
    "\\end{align*}\n",
    "* We relate the difference in the conditional value functions to the CCPs:\n",
    "\\begin{align*}\n",
    "v_{2t}(x_t) - v_{1t}(x_t) & = \\log P_t(d_t=2|x_t) - \\log P_t(d_t=1|x_t) \n",
    "\\end{align*}"
   ]
  },
  {
   "cell_type": "markdown",
   "metadata": {
    "colab_type": "text",
    "id": "9-aF6MrPcaNf"
   },
   "source": [
    "* We now define the followng transformation of the structural parameters:\n",
    "\\begin{align*}\n",
    "\\theta_0 & = (1-\\delta)\\beta_0  \\\\  \n",
    "\\theta_1 & = (1-\\delta)\\beta_1  \\\\  \n",
    "\\theta_2 & = \\delta &  \\\\\n",
    "\\end{align*}\n",
    "* We define the following transformation of the observables variables:\n",
    "\\begin{align*}\n",
    "z_{0t} & = \\hat{\\lambda}(x_t) \\\\\n",
    " z_{1t} & = x_t \\hat{\\lambda}(x_t) \\\\\n",
    "z_{2t}  & =\\left(  \\log \\hat{P}_{t+1} (d_{t+1}=2|x_t)- \\hat{\\lambda}(x_t) \\log \\hat{P}_{t+1}(d_{t+1}=1|x_{t}+1) - (1 - \\hat{\\lambda}(x_t)) \\log \\hat{P}_{t+1}(d_{t+1}=1|x_{t}) \\right)  \\\\\n",
    "y_t & = \\log \\hat{P}_t(d_t=2|x_t) - \\log \\hat{P}_t(d_t=1|x_t)\n",
    "\\end{align*}\n",
    "\n",
    "* Now, we can define following linear equation, which is simply another way to rewrite the difference in the conditional value functions as a function of what we observe empirically and a transformation of the structural parameters. \n",
    "\\begin{align*}\n",
    " y_t = \\theta_\n",
    " 0 z_{0t} + \\theta_1 z_{1t} + \\theta_2 z_{2t} + \\varepsilon_t\n",
    "\\end{align*}\n",
    "\n",
    "* It is important to notice that if instead of the empirical estimates of the CCPs and the transition probabilities, we had the actual true CCPs and transition probabilties, then the above equation would hold exactly. The estimation introduces some error, that it is important to take into account when we are making inferences. This is the reason why we introdice the error term $\\varepsilon_t$. \n",
    "\n",
    "* What can we do now: we can estimate the structural parameters solving for a simple linear problem, as opposed to the a more complicated and computationally extensive non-linear problem that involves the entire solution of the model. \n",
    "Finally, we define: \n",
    "\\begin{align*}\n",
    "\\boldsymbol{\\theta} & =\\left( \\beta_0, \\beta_1, \\delta \\right) \\\\\n",
    "\\mathbf{Z} & = \\left( z_{0t}^i, z_{1t}^i, z_{2t}^i \\right)_{i \\in I, t \\in T} \\\\\n",
    "\\mathbf{y} & = \\left( y_{t}^i \\right)_{i \\in I, t \\in T}\n",
    "\\end{align*}\n",
    "* This is the problem we need to solve in order to obtain estimates of the structural parameters: \n",
    "\\begin{align*}\n",
    "\\mathcal{L}(\\boldsymbol{\\theta}|\\mathbf{Z},\\mathbf{y}) & = || \\mathbf{y} - Z \\boldsymbol{\\theta} ||_2^2 \\\\\n",
    "\\hat{\\boldsymbol{\\theta}}_{OLS} & = \\arg\\min_{\\boldsymbol{\\theta} \\in \\Theta} \\mathcal{L}\\left( \\boldsymbol{\\theta}| \\mathbf{y},\\mathbf{Z} \\right)\n",
    "\\end{align*}\n",
    "\n",
    "\n"
   ]
  },
  {
   "cell_type": "code",
   "execution_count": null,
   "metadata": {
    "colab": {
     "base_uri": "https://localhost:8080/",
     "height": 72
    },
    "colab_type": "code",
    "id": "uHYKW5zzf-Jr",
    "outputId": "9c9bc3aa-4dd5-4afe-ea60-907f530fee6a"
   },
   "outputs": [
    {
     "name": "stderr",
     "output_type": "stream",
     "text": [
      "/usr/local/lib/python3.6/dist-packages/statsmodels/tools/_testing.py:19: FutureWarning: pandas.util.testing is deprecated. Use the functions in the public API at pandas.testing instead.\n",
      "  import pandas.util.testing as tm\n"
     ]
    }
   ],
   "source": [
    "import statsmodels.api as sm\n",
    "import statsmodels.formula.api as smf\n",
    "\n",
    "def transform_data(data_recursion, actual_ccp, success_rates):\n",
    "\n",
    "  index = [item for item in filter(lambda x: x[0]>=x[1], itertools.product(range(T),range(T)))]\n",
    "  dict_ccps = {}\n",
    "  for i in range(len(index)):\n",
    "    age, exp = index[i]\n",
    "    dict_ccps[str(age)+'-'+str(exp)] = actual_ccp[i]\n",
    "\n",
    "  data_recursion['ccp2'] = np.nan\n",
    "  data_recursion['ccp1'] = np.nan\n",
    "\n",
    "  data_recursion['ccp2_next_same_experience'] = np.nan\n",
    "  data_recursion['ccp1_next_more_experience'] = np.nan\n",
    "  data_recursion['ccp1_next_same_experience'] = np.nan\n",
    "  data_recursion['lambda'] = np.nan\n",
    "\n",
    "  for (age,exp) in index:\n",
    "  #for i in data_recursion.index:\n",
    "    mask = (data_recursion['age'] == age) & (data_recursion['work_experience'] == exp)\n",
    "    data_recursion.loc[mask,'ccp2'] = dict_ccps[str(age)+'-'+str(exp)]\n",
    "    data_recursion.loc[mask,'ccp1'] = 1 - dict_ccps[str(age)+'-'+str(exp)] \n",
    "    data_recursion.loc[mask,'lambda'] = success_rates[exp]\n",
    "    if age<np.max(data_recursion['age']):\n",
    "      data_recursion.loc[mask,'ccp2_next_same_experience'] = dict_ccps[str(age+1)+'-'+str(exp)] \n",
    "      data_recursion.loc[mask,'ccp1_next_more_experience'] = 1 - dict_ccps[str(age+1)+'-'+str(exp+1)] \n",
    "      data_recursion.loc[mask,'ccp1_next_same_experience'] = 1 - dict_ccps[str(age+1)+'-'+str(exp)] \n",
    "    \n",
    "  data_recursion['z0'] = data_recursion['lambda']\n",
    "  data_recursion['z1'] = data_recursion['lambda'] * data_recursion['work_experience'] / T\n",
    "  data_recursion['z2'] = np.log(data_recursion['ccp2_next_same_experience']) - data_recursion['lambda'] * np.log(data_recursion['ccp1_next_more_experience']) - (1 - data_recursion['lambda']) * np.log(data_recursion['ccp1_next_same_experience'])\n",
    "  data_recursion['y'] = np.log(data_recursion['ccp2']) - np.log(data_recursion['ccp1'])\n",
    "\n",
    "  return data_recursion\n",
    "\n",
    "def estimation_finite_dependence(data_recursion):\n",
    "  results = smf.ols('y ~ -1 + z0 + z1 + z2 ', data_recursion.replace([np.inf, -np.inf], np.nan)).fit()\n",
    "  return results\n",
    "\n",
    "\n"
   ]
  },
  {
   "cell_type": "code",
   "execution_count": null,
   "metadata": {
    "colab": {
     "base_uri": "https://localhost:8080/",
     "height": 510
    },
    "colab_type": "code",
    "id": "e4KVHfsKph-E",
    "outputId": "0c5277fe-5347-467c-b0b0-268dab15f6f1"
   },
   "outputs": [
    {
     "name": "stdout",
     "output_type": "stream",
     "text": [
      "                                 OLS Regression Results                                \n",
      "=======================================================================================\n",
      "Dep. Variable:                      y   R-squared (uncentered):                   0.994\n",
      "Model:                            OLS   Adj. R-squared (uncentered):              0.994\n",
      "Method:                 Least Squares   F-statistic:                          2.355e+06\n",
      "Date:                Fri, 01 May 2020   Prob (F-statistic):                        0.00\n",
      "Time:                        15:56:03   Log-Likelihood:                          14614.\n",
      "No. Observations:               45000   AIC:                                 -2.922e+04\n",
      "Df Residuals:                   44997   BIC:                                 -2.920e+04\n",
      "Df Model:                           3                                                  \n",
      "Covariance Type:            nonrobust                                                  \n",
      "==============================================================================\n",
      "                 coef    std err          t      P>|t|      [0.025      0.975]\n",
      "------------------------------------------------------------------------------\n",
      "z0            -0.2227      0.001   -155.071      0.000      -0.226      -0.220\n",
      "z1             0.5733      0.007     80.954      0.000       0.559       0.587\n",
      "z2             0.9160      0.001   1083.799      0.000       0.914       0.918\n",
      "==============================================================================\n",
      "Omnibus:                     2111.626   Durbin-Watson:                   2.458\n",
      "Prob(Omnibus):                  0.000   Jarque-Bera (JB):             5435.715\n",
      "Skew:                          -0.256   Prob(JB):                         0.00\n",
      "Kurtosis:                       4.624   Cond. No.                         21.3\n",
      "==============================================================================\n",
      "\n",
      "Warnings:\n",
      "[1] Standard Errors assume that the covariance matrix of the errors is correctly specified.\n",
      "Point Estimates. delta:  0.92  beta_0:  -2.65  beta_1 6.83\n",
      "Original Values. delta:  0.9  beta_0:  -2.4  beta_1 8\n"
     ]
    }
   ],
   "source": [
    "data_transformed = transform_data(data_recursion,actual_ccp,success_rates)\n",
    "results = estimation_finite_dependence(data_transformed)\n",
    "\n",
    "print(results.summary())\n",
    "\n",
    "delta = results.params['z2']\n",
    "beta_0 = results.params['z0'] / (1 - delta)\n",
    "beta_1 = results.params['z1'] / (1 - delta)\n",
    "\n",
    "print('Point Estimates. delta: ',np.round(delta,2),' beta_0: ', np.round(beta_0,2), ' beta_1', np.round(beta_1,2))\n",
    "print('Original Values. delta: ',np.round(0.9,2),' beta_0: ', np.round(-2.4,2), ' beta_1', np.round(8,2))"
   ]
  },
  {
   "cell_type": "markdown",
   "metadata": {
    "colab_type": "text",
    "id": "RTFiPy5-z2vG"
   },
   "source": [
    "The question now is the follwoing: we have obtained the point estimates for the parameters. They look pretty good overall, as the are in a neighborhood of the true parameters. \n",
    "\n",
    "Now it is important to ask ourselves whether we can trust or not the values for the standard error derived ih the OLS regression. They look very small, and if we build confidence intervals based on these values, the estimated parameters would appear to be pretty far from the true ones. \n",
    "\n",
    "The main source of error in the estimation comes from the fact that we are **not** using the true CCP and transition probabilities, and that clearly introduces a source of error. How do we take into account this? One way is through bootstrapping. "
   ]
  },
  {
   "cell_type": "markdown",
   "metadata": {
    "colab_type": "text",
    "id": "I0uyMhIYK6ZU"
   },
   "source": [
    "\n",
    "\n",
    "### Parametric Bootstrapping\n",
    "\n",
    "* We can use bootstrap to estimate the standard errors of the coefficients. Specifically, we take $B$ resamples (with replacement) from the data, and estimate the coefficient for each subsample. Then calculate the standard error of the $B$ estimated coefficients.\n",
    "\n",
    "$$ SE(\\hat{\\theta}) = \\sqrt{\\frac{1}{B-1} \\sum_{b=1}^{B} (\\hat{\\theta}_b - \\bar{\\theta})^2} $$\n",
    "\n",
    "\n",
    "* In the parametric bootstrapping, we use the asymptotic properties of the estimators for the CCPs and the transitiona probabilities. In this case, we have the space is discrete, and the empirical CCPs and transition are computed as averages of the indicator functions. Therefore,  we can use the Central Limit Theorem, and use the following asymptotic distribution when we resample in the bootstrapping: \n",
    "\\begin{align*}\n",
    " P(d_{t}=1 |  x_t)_b & \\approx \\mathcal{N} \\left( \\hat{P}(d_{t}=1 |  x_t) , \\frac{\\left( 1 -\\hat{P}(d_{t}=1 |  x_t) \\right)\\hat{P}(d_{t}=1 |  x_t) } {n(x_t)}\\right) \\\\\n",
    " P(d_{t}=2 |  x_t)_b & \\approx \\mathcal{N} \\left( 1 - \\hat{P}(d_{t}=1 |  x_t) , \\frac{\\left( 1 -\\hat{P}(d_{t}=1 |  x_t) \\right)\\hat{P}(d_{t}=1 |  x_t) } {n(x_t)}\\right)  \\\\ \n",
    "\\lambda (x_t)_b & \\approx \\mathcal{N} \\left( \\hat{\\lambda}(x_t) , \\frac{\\left( 1 -\\hat{\\lambda}(x_t)) \\right)\\hat{\\lambda}(x_t)} {n(x_t)}\\right)\n",
    "\\end{align*}\n",
    "* For each $b=1,\\cdots,B$:\n",
    "  * For each $x_{t} \\in \\mathcal{X}$: \n",
    "    * Sample $\\hat{P}(d_{t}=1 |  x_t)_b$, $\\hat{P}(d_{t}=2 |  x_t)_b$ and $\\hat{\\lambda}(x_{t})_b$ from the distributions defined above\n",
    "    * Compute $(z_{0t,b}^i,z_{1t,b}^i,z_{2t,b}^i,y_{t,b}^i)_{i \\in I, t \\in T}$\n",
    "    * Run and OLS regression, estimate $\\hat{\\boldsymbol{\\theta}}_b$, and derive $\\hat{\\beta}_{0,b}, \\hat{\\beta}_{1,b}, \\hat{\\delta}_{0,b}$"
   ]
  },
  {
   "cell_type": "code",
   "execution_count": null,
   "metadata": {
    "colab": {},
    "colab_type": "code",
    "id": "ONMpOXhUK6ZU"
   },
   "outputs": [],
   "source": [
    "from sklearn.utils import resample\n",
    "\n",
    "def getResample(data):\n",
    "    individuals = list(set(data.individual.values))\n",
    "    groups = data.groupby('individual')\n",
    "    sub_index = resample(individuals, replace=True, n_samples=len(individuals))\n",
    "    subsample = pd.concat([groups.get_group(i) for i in sub_index])\n",
    "    return subsample\n",
    "\n",
    "def ParametricBootstrapEstimation(args):\n",
    "    data, n_bootstrap, actual_ccp, success_rates = args\n",
    "    coeffs = []\n",
    "    asympt_std_ccp = np.sqrt( actual_ccp * (1-actual_ccp) / n_obs )\n",
    "    asympt_std_success_rates = np.sqrt( success_rates * (1 - success_rates) / n_obs_success_rates )\n",
    "\n",
    "    for i in range(n_bootstrap):\n",
    "\n",
    "        bootstrap_ccp = np.random.normal(actual_ccp,asympt_std_ccp)\n",
    "        bootstrap_success_rates = np.random.normal(success_rates,asympt_std_success_rates)\n",
    "        bootstrap_data_transformed = transform_data(data,bootstrap_ccp,bootstrap_success_rates)\n",
    "        results_bootstrap = estimation_finite_dependence(bootstrap_data_transformed)\n",
    "        coeffs.append(results_bootstrap.params)\n",
    "    \n",
    "    return coeffs\n",
    "\n",
    "\n",
    "\n",
    "\n",
    "\n"
   ]
  },
  {
   "cell_type": "code",
   "execution_count": null,
   "metadata": {
    "colab": {
     "base_uri": "https://localhost:8080/",
     "height": 70
    },
    "colab_type": "code",
    "id": "nKx8HB2cK6ZW",
    "outputId": "8cd7ff9d-899b-4eb0-e7d7-56200a124c0f"
   },
   "outputs": [
    {
     "name": "stderr",
     "output_type": "stream",
     "text": [
      "/usr/local/lib/python3.6/dist-packages/pandas/core/series.py:679: RuntimeWarning: invalid value encountered in log\n",
      "  result = getattr(ufunc, method)(*inputs, **kwargs)\n"
     ]
    },
    {
     "name": "stdout",
     "output_type": "stream",
     "text": [
      "total computation time is 141.77\n"
     ]
    }
   ],
   "source": [
    "start = time.time()\n",
    "bootstrap_args = (data_recursion,250,actual_ccp,success_rates)\n",
    "bootstrap_coeffs = ParametricBootstrapEstimation(bootstrap_args)\n",
    "print('total computation time is %.2f' %(time.time()-start))\n",
    "\n",
    "bootstrap_coeffs = np.array(bootstrap_coeffs)\n",
    "delta_b = bootstrap_coeffs[:,2]\n",
    "beta_0_b = bootstrap_coeffs[:,0] / (1 - delta_b)\n",
    "beta_1_b = bootstrap_coeffs[:,1] / (1 - delta_b)\n",
    "\n",
    "bootstrap_standard_errors = np.std(np.c_[beta_0_b, beta_1_b, delta_b],axis=0)\n",
    "print('standard errors are %.4f for beta_0 %.4f for beta_1 and \\\n",
    "        %.4f for discount factor' %tuple(bootstrap_standard_errors))\n",
    "\n",
    "\n",
    "\n",
    "\n",
    "\n"
   ]
  },
  {
   "cell_type": "code",
   "execution_count": null,
   "metadata": {
    "colab": {
     "base_uri": "https://localhost:8080/",
     "height": 815
    },
    "colab_type": "code",
    "id": "vZ-O3pwcACVa",
    "outputId": "f76ec578-4589-40d6-de95-a492460fed02"
   },
   "outputs": [
    {
     "data": {
      "image/png": "[encoded data removed]",
      "text/plain": [
       "<Figure size 432x288 with 1 Axes>"
      ]
     },
     "metadata": {
      "needs_background": "light",
      "tags": []
     },
     "output_type": "display_data"
    },
    {
     "data": {
      "image/png": "[encoded data removed]",
      "text/plain": [
       "<Figure size 432x288 with 1 Axes>"
      ]
     },
     "metadata": {
      "needs_background": "light",
      "tags": []
     },
     "output_type": "display_data"
    },
    {
     "data": {
      "image/png": "[encoded data removed]",
      "text/plain": [
       "<Figure size 432x288 with 1 Axes>"
      ]
     },
     "metadata": {
      "needs_background": "light",
      "tags": []
     },
     "output_type": "display_data"
    }
   ],
   "source": [
    "plt.figure()\n",
    "plt.title(r'Parametric Bootstrap Distribution of $\\delta$')\n",
    "plt.hist(delta_b)\n",
    "plt.axvline(x=0.9,c='r',label='True')\n",
    "plt.axvline(x=delta,c='k',label='Estimate')\n",
    "plt.legend()\n",
    "plt.show()\n",
    "\n",
    "plt.figure()\n",
    "plt.title(r'Parametric Bootstrap Distribution of $\\beta_0$')\n",
    "plt.hist(beta_0_b)\n",
    "plt.axvline(x=-2.4,c='r',label='True')\n",
    "plt.axvline(x=beta_0,c='k',label='Estimate')\n",
    "plt.show()\n",
    "\n",
    "plt.figure()\n",
    "plt.title(r'Parametric Bootstrap Distribution of $\\beta_1$')\n",
    "plt.hist(beta_1_b)\n",
    "plt.axvline(x=8,c='r',label='True')\n",
    "plt.axvline(x=beta_1,c='k',label='Estimate')\n",
    "plt.show()"
   ]
  },
  {
   "cell_type": "markdown",
   "metadata": {
    "colab_type": "text",
    "id": "IonlXSjfMzpW"
   },
   "source": [
    "### Non Parametric Bootstrapping"
   ]
  },
  {
   "cell_type": "markdown",
   "metadata": {
    "colab_type": "text",
    "id": "CIPpyjcUFe8p"
   },
   "source": [
    "* There may be some disadvantages to the non-parametric bootstrapping. For instance, it can be the case that the distribution from which we are sampling the CCPs and the transition probabilities does not well represent the true underlying distribution. \n",
    "\n",
    "* Considering that we are using asymptotic properties, this can be the case when there are not enough observations in each of the cells of the state space. In our case, this can be an issue, especially for higher values of experience. This is because ending into high value of experience depends jointly on someone's choice and and exogenuous stochastic process.\n",
    "\n",
    "* In order to alleviate this problem, we can still do bootstrapping, without making any assumption as to what the distribution of the CCPs or the empirical probabilities look like, so that we do not need to rely on asymptotic properties.\n",
    "\n",
    "* In this case, we resample with replacement from the empirical distribution of individuals. \n",
    "\n",
    "* Example: Suppose that we have $I = \\lbrace Ann, Beth, Carl, Donnie \\rbrace$.\n",
    "Resampling with replacement mean that we pick randomly a $|I|$ individuals from the sample, allowing an individual to be picked possibly multiple time. \n",
    "  * $I_{b1} = \\lbrace Ann, Ann, Carl, Donnie \\rbrace$ \\\\\n",
    "  * $I_{b2} = \\lbrace Ann, Ann, Carl, Carl \\rbrace$\n",
    "\n",
    "\n",
    "* For $b=1,\\cdots,B$:\n",
    "  * Resample $I$ individuals, and call the new sample $I_b$\n",
    "  * Based on the observations contained in $I_b$, compute $\\hat{P}_{1b}(d_1=1|x_t)$, and $\\hat{\\lambda}_b(x_t)$\n",
    "  * Compute $(z_{0t,b}^i,z_{1t,b}^i,z_{2t,b}^i,y_{t,b}^i)_{i \\in I, t \\in T}$\n",
    "  * Run an OLS regression, estimate $\\hat{\\boldsymbol{\\theta}}_b$, and derive $\\hat{\\beta}_{0,b}, \\hat{\\beta}_{1,b}, \\hat{\\delta}_{0,b}$\n"
   ]
  },
  {
   "cell_type": "code",
   "execution_count": null,
   "metadata": {
    "colab": {},
    "colab_type": "code",
    "id": "s4BY0dPCKF1K"
   },
   "outputs": [],
   "source": [
    "def NonParametricBootstrapEstimation(args):\n",
    " \n",
    "    data, n_bootstrap, actual_ccp, success_rates = args\n",
    "    coeffs = []\n",
    "\n",
    "    for i in range(n_bootstrap):\n",
    "\n",
    "        bootstrap_data = getResample(data)\n",
    "        bootstrap_ccp, _, _ = ccp_fun(bootstrap_data)\n",
    "        bootstrap_success_rates = p_acpt_fun(bootstrap_data)\n",
    "        bootstrap_success_rates = [x if np.isnan(x)==False else 0 for x in success_rates]\n",
    "        bootstrap_data_transformed = transform_data(bootstrap_data,bootstrap_ccp,bootstrap_success_rates)\n",
    "        results_bootstrap = estimation_finite_dependence(bootstrap_data_transformed)\n",
    "        coeffs.append(results_bootstrap.params)\n",
    "    \n",
    "    return coeffs"
   ]
  },
  {
   "cell_type": "code",
   "execution_count": null,
   "metadata": {
    "colab": {
     "base_uri": "https://localhost:8080/",
     "height": 87
    },
    "colab_type": "code",
    "id": "9yVKJIE5Ahv_",
    "outputId": "81cec4b3-0d72-4a6a-ff47-9dd48efd74b0"
   },
   "outputs": [
    {
     "name": "stderr",
     "output_type": "stream",
     "text": [
      "/usr/local/lib/python3.6/dist-packages/pandas/core/series.py:679: RuntimeWarning: divide by zero encountered in log\n",
      "  result = getattr(ufunc, method)(*inputs, **kwargs)\n"
     ]
    },
    {
     "name": "stdout",
     "output_type": "stream",
     "text": [
      "total computation time is 683.52\n",
      "standard errors are 0.4155 for beta_0 1.2629 for beta_1 and         0.0178 for discount factor\n"
     ]
    }
   ],
   "source": [
    "start = time.time()\n",
    "bootstrap_args = (data_recursion,250,actual_ccp,success_rates)\n",
    "bootstrap_coeffs = NonParametricBootstrapEstimation(bootstrap_args)\n",
    "print('total computation time is %.2f' %(time.time()-start))\n",
    "\n",
    "bootstrap_coeffs = np.array(bootstrap_coeffs)\n",
    "delta_b = bootstrap_coeffs[:,2]\n",
    "beta_0_b = bootstrap_coeffs[:,0] / (1 - delta_b)\n",
    "beta_1_b = bootstrap_coeffs[:,1] / (1 - delta_b)\n",
    "\n",
    "bootstrap_standard_errors = np.std(np.c_[beta_0_b, beta_1_b, delta_b],axis=0)\n",
    "print('standard errors are %.4f for beta_0 %.4f for beta_1 and \\\n",
    "        %.4f for discount factor' %tuple(bootstrap_standard_errors))"
   ]
  },
  {
   "cell_type": "code",
   "execution_count": null,
   "metadata": {
    "colab": {
     "base_uri": "https://localhost:8080/",
     "height": 815
    },
    "colab_type": "code",
    "id": "Xpz1Ix8-HM0A",
    "outputId": "a2010007-213f-4500-afde-eacf581b27d9"
   },
   "outputs": [
    {
     "data": {
      "image/png": "[encoded data removed]",
      "text/plain": [
       "<Figure size 432x288 with 1 Axes>"
      ]
     },
     "metadata": {
      "needs_background": "light",
      "tags": []
     },
     "output_type": "display_data"
    },
    {
     "data": {
      "image/png": "[encoded data removed]",
      "text/plain": [
       "<Figure size 432x288 with 1 Axes>"
      ]
     },
     "metadata": {
      "needs_background": "light",
      "tags": []
     },
     "output_type": "display_data"
    },
    {
     "data": {
      "image/png": "[encoded data removed]",
      "text/plain": [
       "<Figure size 432x288 with 1 Axes>"
      ]
     },
     "metadata": {
      "needs_background": "light",
      "tags": []
     },
     "output_type": "display_data"
    }
   ],
   "source": [
    "plt.figure()\n",
    "plt.title(r'Non Parametric Bootstrap Distribution of $\\delta$')\n",
    "plt.hist(delta_b)\n",
    "plt.axvline(x=0.9,c='r',label='True')\n",
    "plt.axvline(x=delta,c='k',label='Estimate')\n",
    "plt.legend()\n",
    "plt.show()\n",
    "\n",
    "plt.figure()\n",
    "plt.title(r'Non Parametric Bootstrap Distribution of $\\beta_0$')\n",
    "plt.hist(beta_0_b)\n",
    "plt.axvline(x=-2.4,c='r',label='True')\n",
    "plt.axvline(x=beta_0,c='k',label='Estimate')\n",
    "plt.show()\n",
    "\n",
    "plt.figure()\n",
    "plt.title(r'Non Parametric Bootstrap Distribution of $\\beta_1$')\n",
    "plt.hist(beta_1_b)\n",
    "plt.axvline(x=8,c='r',label='True')\n",
    "plt.axvline(x=beta_1,c='k',label='Estimate')\n",
    "plt.show()"
   ]
  }
 ],
 "metadata": {
  "colab": {
   "collapsed_sections": [],
   "name": "Presentation_Final.ipynb",
   "provenance": []
  },
  "kernelspec": {
   "display_name": "Python 3",
   "language": "python",
   "name": "python3"
  },
  "language_info": {
   "codemirror_mode": {
    "name": "ipython",
    "version": 3
   },
   "file_extension": ".py",
   "mimetype": "text/x-python",
   "name": "python",
   "nbconvert_exporter": "python",
   "pygments_lexer": "ipython3",
   "version": "3.7.7"
  }
 },
 "nbformat": 4,
 "nbformat_minor": 1
}
